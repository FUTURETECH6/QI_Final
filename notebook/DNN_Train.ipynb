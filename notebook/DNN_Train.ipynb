{
 "cells": [
  {
   "cell_type": "markdown",
   "metadata": {
    "_uuid": "5ff1de7546913ca2c55e2c41586b1fd637c9dbf6"
   },
   "source": [
    "This kernel is forked by Andy Harless's kernel \"Simple FFNN from Dromosys Features\".  \n",
    "Original kernel uses MinMaxScaler to normalize data.  \n",
    "I use RankGauss to normalize.  \n",
    "What is RankGauss?  \n",
    "RankGauss was used by 1st place solution of \"Porto Seguro’s Safe Driver Prediction\".   \n",
    "To know RankGauss in detail, read this https://www.kaggle.com/c/porto-seguro-safe-driver-prediction/discussion/44629 and read this kernel https://www.kaggle.com/rspadim/simple-denoise-autoencoder-with-keras."
   ]
  },
  {
   "cell_type": "code",
   "execution_count": 1,
   "metadata": {
    "_cell_guid": "b1076dfc-b9ad-4769-8c92-a6c4dae69d19",
    "_uuid": "8f2839f25d086af736a60e9eeb907d3b93b6e0e5",
    "tags": []
   },
   "outputs": [
    {
     "output_type": "stream",
     "name": "stderr",
     "text": "Using TensorFlow backend.\n['previous_application.csv', 'home-credit-default-risk.zip', 'bureau.csv', 'installments_payments.csv', 'credit_card_balance.csv', 'bureau_balance.csv', 'save-dromosys-features', 'HomeCredit_columns_description.csv', 'POS_CASH_balance.csv', 'application_test.csv', 'sample_submission.csv', 'application_train.csv']\n['df.pkl.gz']\n"
    }
   ],
   "source": [
    "import numpy as np\n",
    "import pandas as pd\n",
    "from sklearn.preprocessing import MinMaxScaler\n",
    "from keras.models import Sequential\n",
    "from keras.layers import Dense\n",
    "from keras.layers import Dropout, BatchNormalization\n",
    "from keras.layers.advanced_activations import PReLU\n",
    "from keras.optimizers import Adam\n",
    "from sklearn.model_selection import KFold\n",
    "\n",
    "import gc\n",
    "import os\n",
    "print(os.listdir(\"../input/\"))\n",
    "print(os.listdir(\"../input/save-dromosys-features\"))\n",
    "# from keras import backend as KBk\n",
    "# print(KBk.tensorflow_backend._get_available_gpus())"
   ]
  },
  {
   "cell_type": "code",
   "execution_count": 2,
   "metadata": {
    "_cell_guid": "79c7e3d0-c299-4dcb-8224-4455121ee9b0",
    "_uuid": "d629ff2d2480ee46fbb7e2d37f6b5fab8052498a",
    "tags": []
   },
   "outputs": [
    {
     "output_type": "stream",
     "name": "stdout",
     "text": "Raw shape:  (356251, 531)\nX shape:  (356251, 528)     y shape: (356251,)\n\nPreparing data...\n"
    }
   ],
   "source": [
    "df = pd.read_pickle('../input/save-dromosys-features/df.pkl.gz')\n",
    "print(\"Raw shape: \", df.shape)\n",
    "\n",
    "y = df['TARGET']\n",
    "feats = [f for f in df.columns if f not in ['TARGET','SK_ID_CURR','SK_ID_BUREAU','SK_ID_PREV','index']]\n",
    "X = df[feats]\n",
    "print(\"X shape: \", X.shape, \"    y shape:\", y.shape)\n",
    "\n",
    "print(\"\\nPreparing data...\")\n",
    "X = X.fillna(X.mean()).clip(-1e11,1e11)"
   ]
  },
  {
   "cell_type": "code",
   "execution_count": 3,
   "metadata": {
    "_uuid": "c955e7dc314a8779b4b145b20b022b5c2358fae4"
   },
   "outputs": [],
   "source": [
    "# i must congrats someone that did this, but i read it on internet, please if it's you, congrats, and explain your code :)\n",
    "def rank_gauss(x):\n",
    "    from scipy.special import erfinv\n",
    "    N = x.shape[0]\n",
    "    temp = x.argsort()\n",
    "    rank_x = temp.argsort() / N\n",
    "    rank_x -= rank_x.mean()\n",
    "    rank_x *= 2\n",
    "    efi_x = erfinv(rank_x)\n",
    "    efi_x -= efi_x.mean()\n",
    "    return efi_x"
   ]
  },
  {
   "cell_type": "code",
   "execution_count": 4,
   "metadata": {
    "_uuid": "da5a3fd7c43672e4384059d4d851d6f1d61ff0ae"
   },
   "outputs": [],
   "source": [
    "for i in X.columns:\n",
    "    #print('Categorical: ',i)\n",
    "    X[i] = rank_gauss(X[i].values)"
   ]
  },
  {
   "cell_type": "code",
   "execution_count": 5,
   "metadata": {
    "_uuid": "9133ce657339fa9165dd69b9179fbde4de1a6821",
    "tags": []
   },
   "outputs": [
    {
     "output_type": "stream",
     "name": "stdout",
     "text": "(307507, 528) (48744, 528) (307507,)\n"
    },
    {
     "output_type": "execute_result",
     "data": {
      "text/plain": "22"
     },
     "metadata": {},
     "execution_count": 5
    }
   ],
   "source": [
    "training = y.notnull()\n",
    "testing = y.isnull()\n",
    "X_train = X[training].values\n",
    "X_test = X[testing].values\n",
    "y_train = np.array(y[training])\n",
    "print( X_train.shape, X_test.shape, y_train.shape )\n",
    "gc.collect()"
   ]
  },
  {
   "cell_type": "code",
   "execution_count": 6,
   "metadata": {
    "_uuid": "37db16dfdcf6424f0a0e0bec108a034ce181f44e"
   },
   "outputs": [],
   "source": [
    "from sklearn.metrics import roc_auc_score\n",
    "from keras.callbacks import Callback\n",
    "class roc_callback(Callback):\n",
    "    def __init__(self,training_data,validation_data):\n",
    "        self.x = training_data[0]\n",
    "        self.y = training_data[1]\n",
    "        self.x_val = validation_data[0]\n",
    "        self.y_val = validation_data[1]\n",
    "\n",
    "\n",
    "    def on_train_begin(self, logs={}):\n",
    "        return\n",
    "\n",
    "    def on_train_end(self, logs={}):\n",
    "        return\n",
    "\n",
    "    def on_epoch_begin(self, epoch, logs={}):\n",
    "        return\n",
    "\n",
    "    def on_epoch_end(self, epoch, logs={}):\n",
    "        y_pred = self.model.predict(self.x)\n",
    "        roc = roc_auc_score(self.y, y_pred)\n",
    "        y_pred_val = self.model.predict(self.x_val)\n",
    "        roc_val = roc_auc_score(self.y_val, y_pred_val)\n",
    "        print('\\rroc-auc: %s - roc-auc_val: %s' % (str(round(roc,4)),str(round(roc_val,4))),end=100*' '+'\\n')\n",
    "        return\n",
    "\n",
    "    def on_batch_begin(self, batch, logs={}):\n",
    "        return\n",
    "\n",
    "    def on_batch_end(self, batch, logs={}):\n",
    "        return"
   ]
  },
  {
   "cell_type": "code",
   "execution_count": 7,
   "metadata": {
    "_uuid": "947784253a4cecd028860d38a97e0fcc1b8435c0",
    "tags": [
     "outputPrepend"
    ]
   },
   "outputs": [
    {
     "output_type": "stream",
     "name": "stdout",
     "text": "0.7767 - roc-auc_val: 0.7743                                                                                                    \nEpoch 3/10\n - 93s - loss: 0.2467 - val_loss: 0.2446\nroc-auc: 0.7823 - roc-auc_val: 0.7772                                                                                                    \nEpoch 4/10\n - 92s - loss: 0.2444 - val_loss: 0.2443\nroc-auc: 0.7903 - roc-auc_val: 0.7795                                                                                                    \nEpoch 5/10\n - 93s - loss: 0.2430 - val_loss: 0.2435\nroc-auc: 0.7946 - roc-auc_val: 0.7783                                                                                                    \nEpoch 6/10\n - 91s - loss: 0.2413 - val_loss: 0.2423\nroc-auc: 0.8042 - roc-auc_val: 0.7814                                                                                                    \nEpoch 7/10\n - 91s - loss: 0.2393 - val_loss: 0.2442\nroc-auc: 0.8097 - roc-auc_val: 0.7799                                                                                                    \nEpoch 8/10\n - 90s - loss: 0.2379 - val_loss: 0.2441\nroc-auc: 0.818 - roc-auc_val: 0.7799                                                                                                    \nEpoch 9/10\n - 91s - loss: 0.2362 - val_loss: 0.2429\nroc-auc: 0.8256 - roc-auc_val: 0.7797                                                                                                    \nEpoch 10/10\n - 92s - loss: 0.2341 - val_loss: 0.2439\nroc-auc: 0.8295 - roc-auc_val: 0.7783                                                                                                    \nPredicting...\n==== KFold: 1 ====\nSetting up neural network...\nFitting neural network...\nTrain on 276756 samples, validate on 30751 samples\nEpoch 1/10\n - 90s - loss: 0.2716 - val_loss: 0.2479\nroc-auc: 0.7676 - roc-auc_val: 0.7588                                                                                                    \nEpoch 2/10\n - 88s - loss: 0.2491 - val_loss: 0.2456\nroc-auc: 0.7779 - roc-auc_val: 0.7637                                                                                                    \nEpoch 3/10\n - 90s - loss: 0.2465 - val_loss: 0.2445\nroc-auc: 0.7856 - roc-auc_val: 0.7685                                                                                                    \nEpoch 4/10\n - 88s - loss: 0.2445 - val_loss: 0.2432\nroc-auc: 0.7921 - roc-auc_val: 0.7702                                                                                                    \nEpoch 5/10\n - 89s - loss: 0.2424 - val_loss: 0.2426\nroc-auc: 0.7981 - roc-auc_val: 0.7718                                                                                                    \nEpoch 6/10\n - 80s - loss: 0.2411 - val_loss: 0.2427\nroc-auc: 0.805 - roc-auc_val: 0.77                                                                                                    \nEpoch 7/10\n - 82s - loss: 0.2388 - val_loss: 0.2436\nroc-auc: 0.8107 - roc-auc_val: 0.7683                                                                                                    \nEpoch 8/10\n - 85s - loss: 0.2377 - val_loss: 0.2438\nroc-auc: 0.8191 - roc-auc_val: 0.7672                                                                                                    \nEpoch 9/10\n - 85s - loss: 0.2354 - val_loss: 0.2435\nroc-auc: 0.8255 - roc-auc_val: 0.7677                                                                                                    \nEpoch 10/10\n - 85s - loss: 0.2342 - val_loss: 0.2442\nroc-auc: 0.8323 - roc-auc_val: 0.7677                                                                                                    \nPredicting...\n==== KFold: 2 ====\nSetting up neural network...\nFitting neural network...\nTrain on 276756 samples, validate on 30751 samples\nEpoch 1/10\n - 93s - loss: 0.2718 - val_loss: 0.2413\nroc-auc: 0.7699 - roc-auc_val: 0.7639                                                                                                    \nEpoch 2/10\n - 96s - loss: 0.2500 - val_loss: 0.2394\nroc-auc: 0.7777 - roc-auc_val: 0.7708                                                                                                    \nEpoch 3/10\n - 95s - loss: 0.2469 - val_loss: 0.2380\nroc-auc: 0.7843 - roc-auc_val: 0.7739                                                                                                    \nEpoch 4/10\n - 94s - loss: 0.2449 - val_loss: 0.2374\nroc-auc: 0.7912 - roc-auc_val: 0.7762                                                                                                    \nEpoch 5/10\n - 95s - loss: 0.2430 - val_loss: 0.2374\nroc-auc: 0.7976 - roc-auc_val: 0.7759                                                                                                    \nEpoch 6/10\n - 102s - loss: 0.2413 - val_loss: 0.2386\nroc-auc: 0.804 - roc-auc_val: 0.7703                                                                                                    \nEpoch 7/10\n - 100s - loss: 0.2397 - val_loss: 0.2382\nroc-auc: 0.8109 - roc-auc_val: 0.7743                                                                                                    \nEpoch 8/10\n - 91s - loss: 0.2380 - val_loss: 0.2380\nroc-auc: 0.8186 - roc-auc_val: 0.776                                                                                                    \nEpoch 9/10\n - 92s - loss: 0.2360 - val_loss: 0.2379\nroc-auc: 0.8229 - roc-auc_val: 0.7743                                                                                                    \nEpoch 10/10\n - 92s - loss: 0.2349 - val_loss: 0.2383\nroc-auc: 0.8317 - roc-auc_val: 0.7739                                                                                                    \nPredicting...\n==== KFold: 3 ====\nSetting up neural network...\nFitting neural network...\nTrain on 276756 samples, validate on 30751 samples\nEpoch 1/10\n - 91s - loss: 0.2721 - val_loss: 0.2438\nroc-auc: 0.7683 - roc-auc_val: 0.7619                                                                                                    \nEpoch 2/10\n - 93s - loss: 0.2502 - val_loss: 0.2418\nroc-auc: 0.7764 - roc-auc_val: 0.7699                                                                                                    \nEpoch 3/10\n - 91s - loss: 0.2473 - val_loss: 0.2415\nroc-auc: 0.7831 - roc-auc_val: 0.771                                                                                                    \nEpoch 4/10\n - 92s - loss: 0.2447 - val_loss: 0.2409\nroc-auc: 0.7884 - roc-auc_val: 0.7717                                                                                                    \nEpoch 5/10\n - 91s - loss: 0.2430 - val_loss: 0.2408\nroc-auc: 0.7958 - roc-auc_val: 0.7728                                                                                                    \nEpoch 6/10\n - 96s - loss: 0.2414 - val_loss: 0.2420\nroc-auc: 0.803 - roc-auc_val: 0.7722                                                                                                    \nEpoch 7/10\n - 98s - loss: 0.2395 - val_loss: 0.2398\nroc-auc: 0.8101 - roc-auc_val: 0.7757                                                                                                    \nEpoch 8/10\n - 90s - loss: 0.2382 - val_loss: 0.2397\nroc-auc: 0.8171 - roc-auc_val: 0.775                                                                                                    \nEpoch 9/10\n - 90s - loss: 0.2363 - val_loss: 0.2404\nroc-auc: 0.8231 - roc-auc_val: 0.7753                                                                                                    \nEpoch 10/10\n - 89s - loss: 0.2345 - val_loss: 0.2412\nroc-auc: 0.8302 - roc-auc_val: 0.7712                                                                                                    \nPredicting...\n==== KFold: 4 ====\nSetting up neural network...\nFitting neural network...\nTrain on 276756 samples, validate on 30751 samples\nEpoch 1/10\n - 90s - loss: 0.2708 - val_loss: 0.2504\nroc-auc: 0.7681 - roc-auc_val: 0.7593                                                                                                    \nEpoch 2/10\n - 90s - loss: 0.2488 - val_loss: 0.2487\nroc-auc: 0.7775 - roc-auc_val: 0.7649                                                                                                    \nEpoch 3/10\n - 92s - loss: 0.2463 - val_loss: 0.2483\nroc-auc: 0.7829 - roc-auc_val: 0.7665                                                                                                    \nEpoch 4/10\n - 90s - loss: 0.2439 - val_loss: 0.2475\nroc-auc: 0.7919 - roc-auc_val: 0.7704                                                                                                    \nEpoch 5/10\n - 92s - loss: 0.2417 - val_loss: 0.2482\nroc-auc: 0.7971 - roc-auc_val: 0.7698                                                                                                    \nEpoch 6/10\n - 93s - loss: 0.2405 - val_loss: 0.2472\nroc-auc: 0.8053 - roc-auc_val: 0.7694                                                                                                    \nEpoch 7/10\n - 97s - loss: 0.2386 - val_loss: 0.2477\nroc-auc: 0.8124 - roc-auc_val: 0.7685                                                                                                    \nEpoch 8/10\n - 97s - loss: 0.2370 - val_loss: 0.2483\nroc-auc: 0.8184 - roc-auc_val: 0.7671                                                                                                    \nEpoch 9/10\n - 89s - loss: 0.2354 - val_loss: 0.2490\nroc-auc: 0.8247 - roc-auc_val: 0.767                                                                                                    \nEpoch 10/10\n - 90s - loss: 0.2336 - val_loss: 0.2483\nroc-auc: 0.8331 - roc-auc_val: 0.7659                                                                                                    \nPredicting...\n==== KFold: 5 ====\nSetting up neural network...\nFitting neural network...\nTrain on 276756 samples, validate on 30751 samples\nEpoch 1/10\n - 94s - loss: 0.2713 - val_loss: 0.2492\nroc-auc: 0.7714 - roc-auc_val: 0.7574                                                                                                    \nEpoch 2/10\n - 92s - loss: 0.2492 - val_loss: 0.2476\nroc-auc: 0.7785 - roc-auc_val: 0.7624                                                                                                    \nEpoch 3/10\n - 97s - loss: 0.2465 - val_loss: 0.2474\nroc-auc: 0.7818 - roc-auc_val: 0.7619                                                                                                    \nEpoch 4/10\n - 95s - loss: 0.2446 - val_loss: 0.2453\nroc-auc: 0.7894 - roc-auc_val: 0.7681                                                                                                    \nEpoch 5/10\n - 93s - loss: 0.2428 - val_loss: 0.2456\nroc-auc: 0.7987 - roc-auc_val: 0.7686                                                                                                    \nEpoch 6/10\n - 94s - loss: 0.2409 - val_loss: 0.2450\nroc-auc: 0.8042 - roc-auc_val: 0.772                                                                                                    \nEpoch 7/10\n - 94s - loss: 0.2391 - val_loss: 0.2449\nroc-auc: 0.8111 - roc-auc_val: 0.7697                                                                                                    \nEpoch 8/10\n - 97s - loss: 0.2376 - val_loss: 0.2450\nroc-auc: 0.8169 - roc-auc_val: 0.7693                                                                                                    \nEpoch 9/10\n - 91s - loss: 0.2360 - val_loss: 0.2457\nroc-auc: 0.8261 - roc-auc_val: 0.7694                                                                                                    \nEpoch 10/10\n - 91s - loss: 0.2340 - val_loss: 0.2458\nroc-auc: 0.8294 - roc-auc_val: 0.7684                                                                                                    \nPredicting...\n==== KFold: 6 ====\nSetting up neural network...\nFitting neural network...\nTrain on 276756 samples, validate on 30751 samples\nEpoch 1/10\n - 88s - loss: 0.2723 - val_loss: 0.2438\nroc-auc: 0.7712 - roc-auc_val: 0.7636                                                                                                    \nEpoch 2/10\n - 86s - loss: 0.2491 - val_loss: 0.2418\nroc-auc: 0.7779 - roc-auc_val: 0.7703                                                                                                    \nEpoch 3/10\n - 87s - loss: 0.2472 - val_loss: 0.2411\nroc-auc: 0.7848 - roc-auc_val: 0.7719                                                                                                    \nEpoch 4/10\n - 92s - loss: 0.2447 - val_loss: 0.2421\nroc-auc: 0.7893 - roc-auc_val: 0.7669                                                                                                    \nEpoch 5/10\n - 89s - loss: 0.2429 - val_loss: 0.2415\nroc-auc: 0.7998 - roc-auc_val: 0.7716                                                                                                    \nEpoch 6/10\n - 88s - loss: 0.2412 - val_loss: 0.2410\nroc-auc: 0.8058 - roc-auc_val: 0.7711                                                                                                    \nEpoch 7/10\n - 89s - loss: 0.2392 - val_loss: 0.2407\nroc-auc: 0.8124 - roc-auc_val: 0.7694                                                                                                    \nEpoch 8/10\n - 90s - loss: 0.2378 - val_loss: 0.2415\nroc-auc: 0.8196 - roc-auc_val: 0.7689                                                                                                    \nEpoch 9/10\n - 93s - loss: 0.2358 - val_loss: 0.2417\nroc-auc: 0.8248 - roc-auc_val: 0.7691                                                                                                    \nEpoch 10/10\n - 87s - loss: 0.2340 - val_loss: 0.2419\nroc-auc: 0.8313 - roc-auc_val: 0.768                                                                                                    \nPredicting...\n==== KFold: 7 ====\nSetting up neural network...\nFitting neural network...\nTrain on 276757 samples, validate on 30750 samples\nEpoch 1/10\n - 86s - loss: 0.2723 - val_loss: 0.2412\nroc-auc: 0.7648 - roc-auc_val: 0.7644                                                                                                    \nEpoch 2/10\n - 85s - loss: 0.2504 - val_loss: 0.2370\nroc-auc: 0.7776 - roc-auc_val: 0.7776                                                                                                    \nEpoch 3/10\n - 85s - loss: 0.2471 - val_loss: 0.2362\nroc-auc: 0.7836 - roc-auc_val: 0.7794                                                                                                    \nEpoch 4/10\n - 87s - loss: 0.2453 - val_loss: 0.2370\nroc-auc: 0.7903 - roc-auc_val: 0.7779                                                                                                    \nEpoch 5/10\n - 90s - loss: 0.2434 - val_loss: 0.2357\nroc-auc: 0.7963 - roc-auc_val: 0.7811                                                                                                    \nEpoch 6/10\n - 87s - loss: 0.2418 - val_loss: 0.2369\nroc-auc: 0.804 - roc-auc_val: 0.7812                                                                                                    \nEpoch 7/10\n - 87s - loss: 0.2402 - val_loss: 0.2362\nroc-auc: 0.811 - roc-auc_val: 0.781                                                                                                    \nEpoch 8/10\n - 87s - loss: 0.2381 - val_loss: 0.2361\nroc-auc: 0.8181 - roc-auc_val: 0.78                                                                                                    \nEpoch 9/10\n - 89s - loss: 0.2364 - val_loss: 0.2375\nroc-auc: 0.8247 - roc-auc_val: 0.7775                                                                                                    \nEpoch 10/10\n - 91s - loss: 0.2350 - val_loss: 0.2366\nroc-auc: 0.83 - roc-auc_val: 0.7773                                                                                                    \nPredicting...\n==== KFold: 8 ====\nSetting up neural network...\nFitting neural network...\nTrain on 276757 samples, validate on 30750 samples\nEpoch 1/10\n - 90s - loss: 0.2722 - val_loss: 0.2458\nroc-auc: 0.7687 - roc-auc_val: 0.7672                                                                                                    \nEpoch 2/10\n - 88s - loss: 0.2497 - val_loss: 0.2444\nroc-auc: 0.7788 - roc-auc_val: 0.772                                                                                                    \nEpoch 3/10\n - 89s - loss: 0.2467 - val_loss: 0.2444\nroc-auc: 0.7821 - roc-auc_val: 0.7705                                                                                                    \nEpoch 4/10\n - 89s - loss: 0.2444 - val_loss: 0.2431\nroc-auc: 0.7909 - roc-auc_val: 0.7756                                                                                                    \nEpoch 5/10\n - 93s - loss: 0.2424 - val_loss: 0.2431\nroc-auc: 0.7973 - roc-auc_val: 0.7752                                                                                                    \nEpoch 6/10\n - 94s - loss: 0.2407 - val_loss: 0.2437\nroc-auc: 0.8049 - roc-auc_val: 0.776                                                                                                    \nEpoch 7/10\n - 91s - loss: 0.2393 - val_loss: 0.2443\nroc-auc: 0.8117 - roc-auc_val: 0.7749                                                                                                    \nEpoch 8/10\n - 91s - loss: 0.2374 - val_loss: 0.2444\nroc-auc: 0.8188 - roc-auc_val: 0.7719                                                                                                    \nEpoch 9/10\n - 92s - loss: 0.2360 - val_loss: 0.2429\nroc-auc: 0.8233 - roc-auc_val: 0.775                                                                                                    \nEpoch 10/10\n - 92s - loss: 0.2338 - val_loss: 0.2441\nroc-auc: 0.8321 - roc-auc_val: 0.7735                                                                                                    \nPredicting...\n==== KFold: 9 ====\nSetting up neural network...\nFitting neural network...\nTrain on 276757 samples, validate on 30750 samples\nEpoch 1/10\n - 94s - loss: 0.2721 - val_loss: 0.2454\nroc-auc: 0.7709 - roc-auc_val: 0.7682                                                                                                    \nEpoch 2/10\n - 89s - loss: 0.2491 - val_loss: 0.2423\nroc-auc: 0.7784 - roc-auc_val: 0.7748                                                                                                    \nEpoch 3/10\n - 89s - loss: 0.2468 - val_loss: 0.2414\nroc-auc: 0.7847 - roc-auc_val: 0.7768                                                                                                    \nEpoch 4/10\n - 89s - loss: 0.2448 - val_loss: 0.2418\nroc-auc: 0.791 - roc-auc_val: 0.7775                                                                                                    \nEpoch 5/10\n - 89s - loss: 0.2425 - val_loss: 0.2405\nroc-auc: 0.7981 - roc-auc_val: 0.7778                                                                                                    \nEpoch 6/10\n - 96s - loss: 0.2409 - val_loss: 0.2404\nroc-auc: 0.8048 - roc-auc_val: 0.7776                                                                                                    \nEpoch 7/10\n - 93s - loss: 0.2393 - val_loss: 0.2410\nroc-auc: 0.811 - roc-auc_val: 0.7768                                                                                                    \nEpoch 8/10\n - 91s - loss: 0.2378 - val_loss: 0.2421\nroc-auc: 0.8157 - roc-auc_val: 0.773                                                                                                    \nEpoch 9/10\n - 91s - loss: 0.2357 - val_loss: 0.2413\nroc-auc: 0.8245 - roc-auc_val: 0.7744                                                                                                    \nEpoch 10/10\n - 90s - loss: 0.2339 - val_loss: 0.2426\nroc-auc: 0.831 - roc-auc_val: 0.7744                                                                                                    \nPredicting...\n"
    }
   ],
   "source": [
    "folds = KFold(n_splits=10, shuffle=True, random_state=42)\n",
    "sub_preds = np.zeros(X_test.shape[0])\n",
    "\n",
    "for n_fold, (trn_idx, val_idx) in enumerate(folds.split(X_train)):\n",
    "    trn_x, trn_y = X_train[trn_idx], y_train[trn_idx]\n",
    "    val_x, val_y = X_train[val_idx], y_train[val_idx]\n",
    "\n",
    "    print('==== KFold:', n_fold, '====')\n",
    "    print( 'Setting up neural network...' )\n",
    "    nn = Sequential()\n",
    "    nn.add(Dense(units = 400 , kernel_initializer = 'normal', input_dim = 528))\n",
    "    nn.add(PReLU())\n",
    "    nn.add(Dropout(.3))\n",
    "    nn.add(Dense(units = 160 , kernel_initializer = 'normal'))\n",
    "    nn.add(PReLU())\n",
    "    nn.add(BatchNormalization())\n",
    "    nn.add(Dropout(.3))\n",
    "    nn.add(Dense(units = 64 , kernel_initializer = 'normal'))\n",
    "    nn.add(PReLU())\n",
    "    nn.add(BatchNormalization())\n",
    "    nn.add(Dropout(.3))\n",
    "    nn.add(Dense(units = 26, kernel_initializer = 'normal'))\n",
    "    nn.add(PReLU())\n",
    "    nn.add(BatchNormalization())\n",
    "    nn.add(Dropout(.3))\n",
    "    nn.add(Dense(units = 12, kernel_initializer = 'normal'))\n",
    "    nn.add(PReLU())\n",
    "    nn.add(BatchNormalization())\n",
    "    nn.add(Dropout(.3))\n",
    "    nn.add(Dense(1, kernel_initializer='normal', activation='sigmoid'))\n",
    "    nn.compile(loss='binary_crossentropy', optimizer='adam')\n",
    "    \n",
    "    print( 'Fitting neural network...' )\n",
    "    nn.fit(trn_x, trn_y, validation_data = (val_x, val_y), epochs=10, verbose=2,\n",
    "          callbacks=[roc_callback(training_data=(trn_x, trn_y),validation_data=(val_x, val_y))])\n",
    "\n",
    "    print( 'Predicting...' )\n",
    "    sub_preds += nn.predict(X_test).flatten().clip(0,1) / folds.n_splits\n",
    "    \n",
    "    gc.collect()"
   ]
  },
  {
   "cell_type": "code",
   "execution_count": 8,
   "metadata": {
    "_uuid": "9f2002a6edeb412459def4cf2f256cd7deb87d0a",
    "tags": []
   },
   "outputs": [
    {
     "output_type": "stream",
     "name": "stdout",
     "text": "Saving results...\n        SK_ID_CURR    TARGET\n307511      100001  0.026442\n307512      100005  0.104763\n307513      100013  0.024299\n307514      100028  0.055683\n307515      100038  0.080555\n"
    }
   ],
   "source": [
    "print( 'Saving results...' )\n",
    "sub = pd.DataFrame()\n",
    "sub['SK_ID_CURR'] = df[testing]['SK_ID_CURR']\n",
    "sub['TARGET'] = sub_preds\n",
    "sub[['SK_ID_CURR', 'TARGET']].to_csv('sub_nn.csv', index=False)\n",
    "\n",
    "print( sub.head() )"
   ]
  }
 ],
 "metadata": {
  "kernelspec": {
   "display_name": "Python 3.7.0 64-bit ('base': conda)",
   "language": "python",
   "name": "python37064bitbaseconda70b66ab4790b4536b9d484e76e49516a"
  },
  "language_info": {
   "codemirror_mode": {
    "name": "ipython",
    "version": 3
   },
   "file_extension": ".py",
   "mimetype": "text/x-python",
   "name": "python",
   "nbconvert_exporter": "python",
   "pygments_lexer": "ipython3",
   "version": "3.7.0-final"
  }
 },
 "nbformat": 4,
 "nbformat_minor": 1
}